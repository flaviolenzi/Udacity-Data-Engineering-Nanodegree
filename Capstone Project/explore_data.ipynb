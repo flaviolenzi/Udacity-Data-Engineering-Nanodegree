{
 "cells": [
  {
   "cell_type": "code",
   "execution_count": 1,
   "metadata": {
    "editable": true
   },
   "outputs": [],
   "source": [
    "import configparser\n",
    "from datetime import datetime\n",
    "import os\n",
    "from pyspark.sql import SparkSession\n",
    "from pyspark.sql.functions import udf, col, explode\n",
    "from pyspark.sql.functions import year, month, dayofmonth, hour, weekofyear, date_format, monotonically_increasing_id\n",
    "from pyspark.sql.types import TimestampType\n",
    "\n",
    "import requests\n",
    "import boto3"
   ]
  },
  {
   "cell_type": "markdown",
   "metadata": {
    "editable": true
   },
   "source": [
    "### Get Data"
   ]
  },
  {
   "cell_type": "code",
   "execution_count": 2,
   "metadata": {
    "editable": true
   },
   "outputs": [],
   "source": [
    "config = configparser.ConfigParser()\n",
    "config.read('dwh.cfg')\n",
    "\n",
    "os.environ['AWS_ACCESS_KEY_ID']=config['AWS']['KEY']\n",
    "os.environ['AWS_SECRET_ACCESS_KEY']=config['AWS']['SECRET']\n"
   ]
  },
  {
   "cell_type": "code",
   "execution_count": 3,
   "metadata": {
    "editable": true
   },
   "outputs": [],
   "source": [
    "input_data = \"data/\"\n",
    "output_data = \"data/output_data/\"\n",
    "output_data_s3 = \"<S3>\"\n",
    "\n",
    "\n",
    "questions_data = input_data + 'questions/*.json'\n",
    "tags_data = input_data + 'tags/*.json'\n",
    "users_data = input_data + 'users/*.json'"
   ]
  },
  {
   "cell_type": "code",
   "execution_count": 4,
   "metadata": {
    "editable": true
   },
   "outputs": [],
   "source": [
    "spark = SparkSession \\\n",
    "    .builder \\\n",
    "    .config(\"spark.jars.packages\", \"org.apache.hadoop:hadoop-aws:2.7.0\") \\\n",
    "    .getOrCreate()"
   ]
  },
  {
   "cell_type": "markdown",
   "metadata": {
    "editable": true
   },
   "source": [
    "## Questions Data"
   ]
  },
  {
   "cell_type": "code",
   "execution_count": 5,
   "metadata": {
    "editable": true
   },
   "outputs": [
    {
     "name": "stdout",
     "output_type": "stream",
     "text": [
      "root\n",
      " |-- accepted_answer_id: long (nullable = true)\n",
      " |-- answer_count: long (nullable = true)\n",
      " |-- bounty_amount: long (nullable = true)\n",
      " |-- bounty_closes_date: long (nullable = true)\n",
      " |-- closed_date: long (nullable = true)\n",
      " |-- closed_reason: string (nullable = true)\n",
      " |-- collectives: array (nullable = true)\n",
      " |    |-- element: struct (containsNull = true)\n",
      " |    |    |-- description: string (nullable = true)\n",
      " |    |    |-- external_links: array (nullable = true)\n",
      " |    |    |    |-- element: struct (containsNull = true)\n",
      " |    |    |    |    |-- link: string (nullable = true)\n",
      " |    |    |    |    |-- type: string (nullable = true)\n",
      " |    |    |-- link: string (nullable = true)\n",
      " |    |    |-- name: string (nullable = true)\n",
      " |    |    |-- slug: string (nullable = true)\n",
      " |    |    |-- tags: array (nullable = true)\n",
      " |    |    |    |-- element: string (containsNull = true)\n",
      " |-- community_owned_date: long (nullable = true)\n",
      " |-- content_license: string (nullable = true)\n",
      " |-- creation_date: long (nullable = true)\n",
      " |-- is_answered: boolean (nullable = true)\n",
      " |-- last_activity_date: long (nullable = true)\n",
      " |-- last_edit_date: long (nullable = true)\n",
      " |-- link: string (nullable = true)\n",
      " |-- locked_date: long (nullable = true)\n",
      " |-- owner: struct (nullable = true)\n",
      " |    |-- accept_rate: long (nullable = true)\n",
      " |    |-- account_id: long (nullable = true)\n",
      " |    |-- display_name: string (nullable = true)\n",
      " |    |-- link: string (nullable = true)\n",
      " |    |-- profile_image: string (nullable = true)\n",
      " |    |-- reputation: long (nullable = true)\n",
      " |    |-- user_id: long (nullable = true)\n",
      " |    |-- user_type: string (nullable = true)\n",
      " |-- protected_date: long (nullable = true)\n",
      " |-- question_id: long (nullable = true)\n",
      " |-- score: long (nullable = true)\n",
      " |-- tags: array (nullable = true)\n",
      " |    |-- element: string (containsNull = true)\n",
      " |-- title: string (nullable = true)\n",
      " |-- view_count: long (nullable = true)\n",
      "\n"
     ]
    }
   ],
   "source": [
    "df_questions = spark.read.json(questions_data)\n",
    "df_questions.printSchema()"
   ]
  },
  {
   "cell_type": "code",
   "execution_count": 6,
   "metadata": {
    "editable": true
   },
   "outputs": [
    {
     "data": {
      "text/plain": [
       "[Row(accepted_answer_id=70271, answer_count=6, bounty_amount=None, bounty_closes_date=None, closed_date=None, closed_reason=None, collectives=[Row(description='Google Cloud provides organizations with leading infrastructure, platform capabilities and industry solutions to help them solve their most critical business problems.', external_links=[Row(link='https://cloud.google.com/developers', type='website'), Row(link='https://googlecloud-community.slack.com/', type='support'), Row(link='https://twitter.com/googlecloudtech', type='twitter'), Row(link='https://facebook.com/googlecloud', type='facebook'), Row(link='https://instagram.com/googlecloud', type='instagram')], link='/collectives/google-cloud', name='Google Cloud', slug='google-cloud', tags=['google-cloud-python', 'google-app-engine', 'google-cloud-platform', 'google-cloud-save', 'google-cloud-nl', 'google-cloud-resource-manager', 'google-cloud-memorystore', 'google-cloud-ml-engine', 'google-cloud-spanner-emulator', 'maven-jib', 'google-cloud-storage-r', 'google-cloud-iot', 'google-cloud-monitoring', 'google-bigquery', 'google-cloud-intellij', 'google-cloud-translate', 'google-app-engine-python', 'google-cloud-talent-solution', 'google-cloud-metrics', 'google-cloud-network-load-balancer', 'google-cloud-iam', 'google-cloud-dataproc', 'google-cloud-identity', 'google-cloud-language', 'google-cloud-debugger', 'google-fusion-tables', 'google-cloud-automl-nl', 'google-cloud-functions', 'dialogflow-es', 'google-cloud-interconnect', 'google-cloud-router', 'google-cloud-dns', 'google-dataflow', 'google-cloud-webrisk', 'google-cloud-vision', 'google-cloud-cpp', 'google-prediction', 'google-cloud-ai', 'dialogflow-es-fulfillment', 'google-app-engine-deploy', 'google-cloud-endpoints', 'google-cloud-datastore', 'google-cloud-internal-load-balancer', 'google-cloud-ai-platform-pipelines', 'google-cloud-error-reporting', 'google-app-engine-patch', 'firebase', 'google-cloud-speech', 'google-cloud-stackdriver', 'jib-maven-plugin', 'google-cloud-repository', 'google-cloud-run', 'google-app-engine-go', 'google-cloud-trace', 'google-cloud-registry', 'google-cloud-speech-boost', 'google-cloud-armor', 'google-cloud-source-repos', 'google-cloud-networking', 'google-cloud-tools', 'gcloud', 'google-cloud-profiler', 'google-cloud-robotics', 'google-cloud-http-load-balancer', 'google-cloud-kms', 'google-cloud-firestore', 'google-cloud-php-client', 'google-cloud-composer', 'google-cloud-data-fusion', 'google-app-engine-php', 'jib', 'google-cloud-scheduler', 'google-cloud-load-balancer', 'google-cloud-spanner', 'google-container-os', 'google-cloud-vpn', 'google-kubernetes-engine', 'google-cloud-url-maps', 'google-cloud-dlp', 'google-cloud-launcher', 'google-cloud-logging', 'google-cloud-tpu', 'google-cloud-healthcare', 'google-cloud-console', 'google-cloud-print', 'google-cloud-tasks', 'google-cloud-print-privet', 'google-cloud-proxy', 'google-cloud-build', 'google-cloud-endpoints-v2', 'bigtable', 'google-app-engine-launch', 'google-cloud-identity-aware-proxy', 'google-cloud-data-transfer', 'dialogflow-cx', 'google-data-studio', 'google-cloud-api-gateway', 'google-compute-engine', 'google-cloud-shell', 'google-cloud-search', 'google-cloud-messaging', 'google-cloud-storage', 'google-cloud-dataflow', 'google-container-builder', 'google-cloud-pubsub', 'google-migrate-for-compute-engine', 'google-cloud-ml', 'apigee', 'google-cloud-datalab', 'google-cloud-pubsublite', 'google-cloud-powershell', 'google-cloud-marketplace', 'google-cloud-asset-inventory', 'google-cloud-visualstudio', 'google-cloud-code', 'google-cloud-billing', 'google-analytics-firebase', 'google-cloud-filestore', 'google-cloud-pubsub-emulator', 'google-cloud-shell-editor', 'google-app-engine-golang', 'google-cloud-bigtable', 'google-cloud-automl', 'google-cloud-cdn', 'google-cloud-node', 'google-cloud-test-lab', 'firebase-realtime-database', 'google-anthos', 'google-cloud-recommendation', 'google-cloud-dataprep', 'google-cloud-instance-template', 'google-cloud-sdk', 'apigee-baas', 'google-cloud-sql', 'google-container-registry', 'google-container-optimized-os'])], community_owned_date=None, content_license='CC BY-SA 3.0', creation_date=1220796527, is_answered=True, last_activity_date=1469959325, last_edit_date=1469959325, link='https://stackoverflow.com/questions/48458/project-structure-for-google-app-engine', locked_date=None, owner=Row(accept_rate=68, account_id=80, display_name='Chris Marasti-Georg', link='https://stackoverflow.com/users/96/chris-marasti-georg', profile_image='https://www.gravatar.com/avatar/4281c5c19a1c365390eb478d529de6fa?s=128&d=identicon&r=PG', reputation=32734, user_id=96, user_type='registered'), protected_date=1291914741, question_id=48458, score=118, tags=['python', 'google-app-engine'], title='Project structure for Google App Engine', view_count=27676)]"
      ]
     },
     "execution_count": 6,
     "metadata": {},
     "output_type": "execute_result"
    }
   ],
   "source": [
    "df_questions.head(1)"
   ]
  },
  {
   "cell_type": "code",
   "execution_count": 7,
   "metadata": {
    "editable": true
   },
   "outputs": [],
   "source": [
    "question_fields = [\"question_id\", \"title\", \"view_count\", \"creation_date\", \"owner.user_id\", \"is_answered\", explode(\"tags\").alias(\"tag\")]\n",
    "questions_table = df_questions.select(question_fields).dropDuplicates()"
   ]
  },
  {
   "cell_type": "code",
   "execution_count": 8,
   "metadata": {
    "editable": true
   },
   "outputs": [
    {
     "data": {
      "text/plain": [
       "[Row(question_id=48668, title='How should anonymous types be used in C#?', view_count=5255, creation_date=1220812472, owner.user_id=4883, is_answered=True, tag='c#'),\n",
       " Row(question_id=48733, title='How to maintain Hibernate cache consistency running two Java applications?', view_count=11783, creation_date=1220818151, owner.user_id=48310, is_answered=True, tag='caching'),\n",
       " Row(question_id=48872, title='Why/when should you use nested classes in .net? Or shouldn&#39;t you?', view_count=47127, creation_date=1220828480, owner.user_id=100, is_answered=True, tag='fxcop'),\n",
       " Row(question_id=47786, title='Google App Engine: Is it possible to do a Gql LIKE query?', view_count=42056, creation_date=1220731524, owner.user_id=366, is_answered=True, tag='google-app-engine'),\n",
       " Row(question_id=48053, title='Is there any alternative to using % (modulus) in C/C++?', view_count=56888, creation_date=1220754689, owner.user_id=445087, is_answered=True, tag='modulo')]"
      ]
     },
     "execution_count": 8,
     "metadata": {},
     "output_type": "execute_result"
    }
   ],
   "source": [
    "questions_table.head(5)"
   ]
  },
  {
   "cell_type": "code",
   "execution_count": 96,
   "metadata": {
    "editable": true
   },
   "outputs": [],
   "source": [
    "questions_table.write.parquet(output_data + 'questions/', mode='overwrite')"
   ]
  },
  {
   "cell_type": "markdown",
   "metadata": {
    "editable": true
   },
   "source": [
    "## Data Quality"
   ]
  },
  {
   "cell_type": "code",
   "execution_count": 47,
   "metadata": {
    "editable": true
   },
   "outputs": [],
   "source": [
    "def check_data_quality(dataset):\n",
    "    \"\"\"Check for data quality\n",
    "\n",
    "    :param dataset: Dataset to be checked\n",
    "    \"\"\"\n",
    "    if dataset == 'questions':\n",
    "        table_field = 'question_id'\n",
    "        df_table = questions_table\n",
    "    elif dataset == 'users':\n",
    "        table_field = 'user_id'\n",
    "        df_table = users_table\n",
    "\n",
    "    print(\"Start data quality checks...\")\n",
    "    quality_results = { \"table_count\": 0, \"table\": \"\"}\n",
    "    \n",
    "    # Chack table\n",
    "    print(\"Checking {} table...\".format(dataset))\n",
    "    df_table.createOrReplaceTempView(\"df_table\")\n",
    "    query_nulls = (\"\"\"\n",
    "        SELECT  COUNT(*)\n",
    "        FROM df_table\n",
    "        WHERE {} IS NULL OR {} == \"\"\n",
    "    \"\"\").format(table_field, table_field)\n",
    "    table_check_nulls = spark.sql(query_nulls)\n",
    "\n",
    "    # Check that table has > 0 rows\n",
    "    table_check_count = spark.sql(\"\"\"\n",
    "        SELECT  COUNT(*)\n",
    "        FROM df_table\n",
    "    \"\"\")\n",
    "    if table_check_nulls.collect()[0][0] > 0 \\\n",
    "        & table_check_count.collect()[0][0] < 1:\n",
    "        quality_results['table_count'] = table_check_count.collect()[0][0]\n",
    "        quality_results['table'] = \"NOK\"\n",
    "    else:\n",
    "        quality_results['table_count'] = table_check_count.collect()[0][0]\n",
    "        quality_results['table'] = \"OK\"\n",
    "\n",
    "    print(\"NULLS:\")\n",
    "    table_check_nulls.show(1)\n",
    "    print(\"ROWS:\")\n",
    "    table_check_count.show(1)\n",
    "\n",
    "    return quality_results"
   ]
  },
  {
   "cell_type": "code",
   "execution_count": 48,
   "metadata": {
    "editable": true
   },
   "outputs": [
    {
     "name": "stdout",
     "output_type": "stream",
     "text": [
      "Start data quality checks...\n",
      "Checking questions table...\n",
      "NULLS:\n",
      "+--------+\n",
      "|count(1)|\n",
      "+--------+\n",
      "|       0|\n",
      "+--------+\n",
      "\n",
      "ROWS:\n",
      "+--------+\n",
      "|count(1)|\n",
      "+--------+\n",
      "|   28602|\n",
      "+--------+\n",
      "\n"
     ]
    },
    {
     "data": {
      "text/plain": [
       "{'table_count': 28602, 'table': 'OK'}"
      ]
     },
     "execution_count": 48,
     "metadata": {},
     "output_type": "execute_result"
    }
   ],
   "source": [
    "check_data_quality('questions')"
   ]
  },
  {
   "cell_type": "markdown",
   "metadata": {
    "editable": true
   },
   "source": [
    "## Users Data"
   ]
  },
  {
   "cell_type": "code",
   "execution_count": 50,
   "metadata": {
    "editable": true
   },
   "outputs": [
    {
     "name": "stdout",
     "output_type": "stream",
     "text": [
      "root\n",
      " |-- accept_rate: long (nullable = true)\n",
      " |-- account_id: long (nullable = true)\n",
      " |-- badge_counts: struct (nullable = true)\n",
      " |    |-- bronze: long (nullable = true)\n",
      " |    |-- gold: long (nullable = true)\n",
      " |    |-- silver: long (nullable = true)\n",
      " |-- collectives: array (nullable = true)\n",
      " |    |-- element: struct (containsNull = true)\n",
      " |    |    |-- collective: struct (nullable = true)\n",
      " |    |    |    |-- description: string (nullable = true)\n",
      " |    |    |    |-- external_links: array (nullable = true)\n",
      " |    |    |    |    |-- element: struct (containsNull = true)\n",
      " |    |    |    |    |    |-- link: string (nullable = true)\n",
      " |    |    |    |    |    |-- type: string (nullable = true)\n",
      " |    |    |    |-- link: string (nullable = true)\n",
      " |    |    |    |-- name: string (nullable = true)\n",
      " |    |    |    |-- slug: string (nullable = true)\n",
      " |    |    |    |-- tags: array (nullable = true)\n",
      " |    |    |    |    |-- element: string (containsNull = true)\n",
      " |    |    |-- role: string (nullable = true)\n",
      " |-- creation_date: long (nullable = true)\n",
      " |-- display_name: string (nullable = true)\n",
      " |-- is_employee: boolean (nullable = true)\n",
      " |-- last_access_date: long (nullable = true)\n",
      " |-- last_modified_date: long (nullable = true)\n",
      " |-- link: string (nullable = true)\n",
      " |-- location: string (nullable = true)\n",
      " |-- profile_image: string (nullable = true)\n",
      " |-- reputation: long (nullable = true)\n",
      " |-- reputation_change_day: long (nullable = true)\n",
      " |-- reputation_change_month: long (nullable = true)\n",
      " |-- reputation_change_quarter: long (nullable = true)\n",
      " |-- reputation_change_week: long (nullable = true)\n",
      " |-- reputation_change_year: long (nullable = true)\n",
      " |-- timed_penalty_date: long (nullable = true)\n",
      " |-- user_id: long (nullable = true)\n",
      " |-- user_type: string (nullable = true)\n",
      " |-- website_url: string (nullable = true)\n",
      "\n"
     ]
    }
   ],
   "source": [
    "df_users = spark.read.json(users_data)\n",
    "df_users.printSchema()"
   ]
  },
  {
   "cell_type": "code",
   "execution_count": 51,
   "metadata": {
    "editable": true
   },
   "outputs": [
    {
     "data": {
      "text/plain": [
       "[Row(accept_rate=None, account_id=-1, badge_counts=Row(bronze=0, gold=0, silver=1), collectives=None, creation_date=1217462400, display_name='Community', is_employee=False, last_access_date=1219709813, last_modified_date=1623827663, link='https://stackoverflow.com/users/-1/community', location='on the server farm', profile_image='https://www.gravatar.com/avatar/a007be5a61f6aa8f3e85ae2fc18dd66e?s=128&d=identicon&r=PG', reputation=1, reputation_change_day=0, reputation_change_month=0, reputation_change_quarter=0, reputation_change_week=0, reputation_change_year=0, timed_penalty_date=None, user_id=-1, user_type='moderator', website_url='https://meta.stackexchange.com')]"
      ]
     },
     "execution_count": 51,
     "metadata": {},
     "output_type": "execute_result"
    }
   ],
   "source": [
    "df_users.head(1)"
   ]
  },
  {
   "cell_type": "code",
   "execution_count": 52,
   "metadata": {
    "editable": true
   },
   "outputs": [],
   "source": [
    "users_fields = [\"user_id\", \"display_name\", \"reputation\", \"user_type\", \"location\"]\n",
    "users_table = df_users.select(users_fields).dropDuplicates()"
   ]
  },
  {
   "cell_type": "code",
   "execution_count": 93,
   "metadata": {
    "editable": true
   },
   "outputs": [
    {
     "data": {
      "text/plain": [
       "[Row(user_id=23, display_name='Jax', reputation=6467, user_type='registered', location='Charlotte, NC, United States'),\n",
       " Row(user_id=25, display_name='CodingWithoutComments', reputation=33690, user_type='registered', location='Seattle, Washington United States'),\n",
       " Row(user_id=1038, display_name='maerch', reputation=1985, user_type='registered', location='Europe'),\n",
       " Row(user_id=9832, display_name='Dave Rolsky', reputation=4464, user_type='registered', location='United States'),\n",
       " Row(user_id=845, display_name='Barry', reputation=2043, user_type='registered', location='Daytona Beach, Florida, United States')]"
      ]
     },
     "execution_count": 93,
     "metadata": {},
     "output_type": "execute_result"
    }
   ],
   "source": [
    "users_table.head(5)"
   ]
  },
  {
   "cell_type": "code",
   "execution_count": 26,
   "metadata": {
    "editable": true
   },
   "outputs": [],
   "source": [
    "users_table.write.parquet(output_data + 'users/', mode='overwrite')"
   ]
  },
  {
   "cell_type": "code",
   "execution_count": 53,
   "metadata": {
    "editable": true
   },
   "outputs": [
    {
     "name": "stdout",
     "output_type": "stream",
     "text": [
      "Start data quality checks...\n",
      "Checking users table...\n",
      "NULLS:\n",
      "+--------+\n",
      "|count(1)|\n",
      "+--------+\n",
      "|       0|\n",
      "+--------+\n",
      "\n",
      "ROWS:\n",
      "+--------+\n",
      "|count(1)|\n",
      "+--------+\n",
      "|    9900|\n",
      "+--------+\n",
      "\n"
     ]
    },
    {
     "data": {
      "text/plain": [
       "{'table_count': 9900, 'table': 'OK'}"
      ]
     },
     "execution_count": 53,
     "metadata": {},
     "output_type": "execute_result"
    }
   ],
   "source": [
    "check_data_quality('users')"
   ]
  },
  {
   "cell_type": "markdown",
   "metadata": {
    "editable": true
   },
   "source": [
    "## Tags Data"
   ]
  },
  {
   "cell_type": "code",
   "execution_count": 27,
   "metadata": {
    "editable": true
   },
   "outputs": [
    {
     "name": "stdout",
     "output_type": "stream",
     "text": [
      "root\n",
      " |-- collectives: array (nullable = true)\n",
      " |    |-- element: struct (containsNull = true)\n",
      " |    |    |-- description: string (nullable = true)\n",
      " |    |    |-- external_links: array (nullable = true)\n",
      " |    |    |    |-- element: struct (containsNull = true)\n",
      " |    |    |    |    |-- link: string (nullable = true)\n",
      " |    |    |    |    |-- type: string (nullable = true)\n",
      " |    |    |-- link: string (nullable = true)\n",
      " |    |    |-- name: string (nullable = true)\n",
      " |    |    |-- slug: string (nullable = true)\n",
      " |    |    |-- tags: array (nullable = true)\n",
      " |    |    |    |-- element: string (containsNull = true)\n",
      " |-- count: long (nullable = true)\n",
      " |-- has_synonyms: boolean (nullable = true)\n",
      " |-- is_moderator_only: boolean (nullable = true)\n",
      " |-- is_required: boolean (nullable = true)\n",
      " |-- name: string (nullable = true)\n",
      "\n"
     ]
    }
   ],
   "source": [
    "df_tags = spark.read.json(tags_data)\n",
    "df_tags.printSchema()"
   ]
  },
  {
   "cell_type": "code",
   "execution_count": 28,
   "metadata": {
    "editable": true
   },
   "outputs": [
    {
     "data": {
      "text/plain": [
       "[Row(collectives=None, count=38665, has_synonyms=True, is_moderator_only=False, is_required=False, name='join')]"
      ]
     },
     "execution_count": 28,
     "metadata": {},
     "output_type": "execute_result"
    }
   ],
   "source": [
    "df_tags.head(1)"
   ]
  },
  {
   "cell_type": "code",
   "execution_count": 30,
   "metadata": {
    "editable": true
   },
   "outputs": [],
   "source": [
    "tags_fields = [\"count\", \"name\"]\n",
    "tags_table = df_tags.select(tags_fields).dropDuplicates()"
   ]
  },
  {
   "cell_type": "code",
   "execution_count": 31,
   "metadata": {
    "editable": true
   },
   "outputs": [
    {
     "data": {
      "text/plain": [
       "[Row(count=1189, name='sha'),\n",
       " Row(count=1179, name='immutable.js'),\n",
       " Row(count=1160, name='onsen-ui'),\n",
       " Row(count=546, name='angular-bootstrap'),\n",
       " Row(count=541, name='jsplumb')]"
      ]
     },
     "execution_count": 31,
     "metadata": {},
     "output_type": "execute_result"
    }
   ],
   "source": [
    "tags_table.head(5)"
   ]
  },
  {
   "cell_type": "code",
   "execution_count": 32,
   "metadata": {
    "editable": true
   },
   "outputs": [],
   "source": [
    "tags_table.write.parquet(output_data + 'tags/', mode='overwrite')"
   ]
  },
  {
   "cell_type": "markdown",
   "metadata": {
    "editable": true
   },
   "source": [
    "## Upload data to S3"
   ]
  },
  {
   "cell_type": "code",
   "execution_count": 33,
   "metadata": {
    "editable": true
   },
   "outputs": [],
   "source": [
    "def upload_file(file_name, bucket, object_name=None):\n",
    "    \"\"\"Upload a file to an S3 bucket\n",
    "\n",
    "    :param file_name: File to upload\n",
    "    :param bucket: Bucket to upload to\n",
    "    :param object_name: S3 object name. If not specified then file_name is used\n",
    "    :return: True if file was uploaded, else False\n",
    "    \"\"\"\n",
    "\n",
    "    # If S3 object_name was not specified, use file_name\n",
    "    if object_name is None:\n",
    "        object_name = file_name\n",
    "\n",
    "    # Upload the file\n",
    "    s3_client = boto3.client('s3')\n",
    "    try:\n",
    "        response = s3_client.upload_file(file_name, bucket, object_name)\n",
    "    except ClientError as e:\n",
    "        logging.error(e)\n",
    "        return False\n",
    "    return True"
   ]
  },
  {
   "cell_type": "code",
   "execution_count": 100,
   "metadata": {
    "editable": true
   },
   "outputs": [],
   "source": [
    "path = output_data + 'questions/'\n",
    "\n",
    "files = os.listdir(path)\n",
    "\n",
    "for filename in files:\n",
    "    if not filename.startswith('.'):\n",
    "        upload_file(path + filename, output_data_s3, 'questions/{}'.format(filename))"
   ]
  },
  {
   "cell_type": "code",
   "execution_count": 43,
   "metadata": {
    "editable": true
   },
   "outputs": [],
   "source": [
    "path = output_data + 'users/'\n",
    "\n",
    "files = os.listdir(path)\n",
    "\n",
    "for filename in files:\n",
    "    if not filename.startswith('.'):\n",
    "        upload_file(path + filename, output_data_s3, 'users/{}'.format(filename))"
   ]
  },
  {
   "cell_type": "code",
   "execution_count": 44,
   "metadata": {
    "editable": true
   },
   "outputs": [],
   "source": [
    "path = output_data + 'tags/'\n",
    "\n",
    "files = os.listdir(path)\n",
    "\n",
    "for filename in files:\n",
    "    if not filename.startswith('.'):\n",
    "        upload_file(path + filename, output_data_s3, 'tags/{}'.format(filename))"
   ]
  }
 ],
 "metadata": {
  "kernelspec": {
   "display_name": "Python 3",
   "language": "python",
   "name": "python3"
  },
  "language_info": {
   "codemirror_mode": {
    "name": "ipython",
    "version": 3
   },
   "file_extension": ".py",
   "mimetype": "text/x-python",
   "name": "python",
   "nbconvert_exporter": "python",
   "pygments_lexer": "ipython3",
   "version": "3.6.3"
  }
 },
 "nbformat": 4,
 "nbformat_minor": 4
}
